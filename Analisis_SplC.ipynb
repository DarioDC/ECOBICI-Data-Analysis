{
 "cells": [
  {
   "cell_type": "code",
   "execution_count": 16,
   "metadata": {},
   "outputs": [
    {
     "name": "stderr",
     "output_type": "stream",
     "text": [
      "\n",
      "Attaching package: ‘dplyr’\n",
      "\n",
      "\n",
      "The following objects are masked from ‘package:stats’:\n",
      "\n",
      "    filter, lag\n",
      "\n",
      "\n",
      "The following objects are masked from ‘package:base’:\n",
      "\n",
      "    intersect, setdiff, setequal, union\n",
      "\n",
      "\n"
     ]
    }
   ],
   "source": [
    "library(\"ggplot2\")\n",
    "library(\"dplyr\")\n",
    "library(\"scales\")"
   ]
  },
  {
   "cell_type": "markdown",
   "metadata": {},
   "source": [
    "# Introducción"
   ]
  },
  {
   "cell_type": "markdown",
   "metadata": {},
   "source": [
    "En el presente capítulo se realizará el análisis para la serie de tiempo cantidad de viajes realizados en la Ciudad de México utilizando las bicicletas del programa de gobierno *EcoBici*, en base a *splines cúbicos*.\n",
    "\n",
    "\n",
    "\n",
    "Los datos se encuentran presentes en cada una de las bases de datos, las cuales pueden obtenerse descargándolas desde la página oficial del programa [Ecobici](https://www.ecobici.cdmx.gob.mx/es/informacion-del-servicio/open-data). Los datos son mensuales y se cuenta con información desde febrero de $2010$ hasta mayo $2020$, por lo que se tiene un total de $124$ observaciones, las cuales representan la cantidad de viajes realizados en el respectivo mes y año."
   ]
  },
  {
   "cell_type": "markdown",
   "metadata": {},
   "source": [
    "# Objetivo"
   ]
  },
  {
   "cell_type": "markdown",
   "metadata": {},
   "source": [
    "Interpolar la cantidad de viajes realizados desde que se tiene información comparando entre los resultados al realizar la interpolación tomando observaciones a nivel:\n",
    "\n",
    "\n",
    "* Semestral\n",
    "* Anual\n",
    "* Bianual\n",
    "\n",
    "\n",
    "Y decidir qué corte obtiene un mejor desempeño en base al error cuadrático medio."
   ]
  },
  {
   "cell_type": "markdown",
   "metadata": {},
   "source": [
    "# Metodología"
   ]
  },
  {
   "cell_type": "markdown",
   "metadata": {},
   "source": [
    "### Lectura y preparación de datos"
   ]
  },
  {
   "cell_type": "code",
   "execution_count": 1,
   "metadata": {},
   "outputs": [],
   "source": [
    "data <- read.csv(\"EcoBici.csv\", stringsAsFactors = FALSE) ### No se desea que el anio sea un factor, lo queremos como string"
   ]
  },
  {
   "cell_type": "code",
   "execution_count": 2,
   "metadata": {},
   "outputs": [
    {
     "data": {
      "text/html": [
       "<table>\n",
       "<caption>A data.frame: 6 × 2</caption>\n",
       "<thead>\n",
       "\t<tr><th></th><th scope=col>Anio</th><th scope=col>Viajes</th></tr>\n",
       "\t<tr><th></th><th scope=col>&lt;chr&gt;</th><th scope=col>&lt;int&gt;</th></tr>\n",
       "</thead>\n",
       "<tbody>\n",
       "\t<tr><th scope=row>1</th><td>2010-02</td><td> 1057</td></tr>\n",
       "\t<tr><th scope=row>2</th><td>2010-03</td><td>21024</td></tr>\n",
       "\t<tr><th scope=row>3</th><td>2010-04</td><td>44984</td></tr>\n",
       "\t<tr><th scope=row>4</th><td>2010-05</td><td>59814</td></tr>\n",
       "\t<tr><th scope=row>5</th><td>2010-06</td><td>64704</td></tr>\n",
       "\t<tr><th scope=row>6</th><td>2010-07</td><td>58767</td></tr>\n",
       "</tbody>\n",
       "</table>\n"
      ],
      "text/latex": [
       "A data.frame: 6 × 2\n",
       "\\begin{tabular}{r|ll}\n",
       "  & Anio & Viajes\\\\\n",
       "  & <chr> & <int>\\\\\n",
       "\\hline\n",
       "\t1 & 2010-02 &  1057\\\\\n",
       "\t2 & 2010-03 & 21024\\\\\n",
       "\t3 & 2010-04 & 44984\\\\\n",
       "\t4 & 2010-05 & 59814\\\\\n",
       "\t5 & 2010-06 & 64704\\\\\n",
       "\t6 & 2010-07 & 58767\\\\\n",
       "\\end{tabular}\n"
      ],
      "text/markdown": [
       "\n",
       "A data.frame: 6 × 2\n",
       "\n",
       "| <!--/--> | Anio &lt;chr&gt; | Viajes &lt;int&gt; |\n",
       "|---|---|---|\n",
       "| 1 | 2010-02 |  1057 |\n",
       "| 2 | 2010-03 | 21024 |\n",
       "| 3 | 2010-04 | 44984 |\n",
       "| 4 | 2010-05 | 59814 |\n",
       "| 5 | 2010-06 | 64704 |\n",
       "| 6 | 2010-07 | 58767 |\n",
       "\n"
      ],
      "text/plain": [
       "  Anio    Viajes\n",
       "1 2010-02  1057 \n",
       "2 2010-03 21024 \n",
       "3 2010-04 44984 \n",
       "4 2010-05 59814 \n",
       "5 2010-06 64704 \n",
       "6 2010-07 58767 "
      ]
     },
     "metadata": {},
     "output_type": "display_data"
    }
   ],
   "source": [
    "head(data)"
   ]
  },
  {
   "cell_type": "code",
   "execution_count": 3,
   "metadata": {},
   "outputs": [
    {
     "data": {
      "text/html": [
       "<table>\n",
       "<caption>A data.frame: 6 × 2</caption>\n",
       "<thead>\n",
       "\t<tr><th></th><th scope=col>Anio</th><th scope=col>Viajes</th></tr>\n",
       "\t<tr><th></th><th scope=col>&lt;chr&gt;</th><th scope=col>&lt;int&gt;</th></tr>\n",
       "</thead>\n",
       "<tbody>\n",
       "\t<tr><th scope=row>119</th><td>2019-12</td><td>584185</td></tr>\n",
       "\t<tr><th scope=row>120</th><td>2010-01</td><td>676908</td></tr>\n",
       "\t<tr><th scope=row>121</th><td>2010-02</td><td>686327</td></tr>\n",
       "\t<tr><th scope=row>122</th><td>2010-03</td><td>529077</td></tr>\n",
       "\t<tr><th scope=row>123</th><td>2010-04</td><td>159780</td></tr>\n",
       "\t<tr><th scope=row>124</th><td>2010-05</td><td>153147</td></tr>\n",
       "</tbody>\n",
       "</table>\n"
      ],
      "text/latex": [
       "A data.frame: 6 × 2\n",
       "\\begin{tabular}{r|ll}\n",
       "  & Anio & Viajes\\\\\n",
       "  & <chr> & <int>\\\\\n",
       "\\hline\n",
       "\t119 & 2019-12 & 584185\\\\\n",
       "\t120 & 2010-01 & 676908\\\\\n",
       "\t121 & 2010-02 & 686327\\\\\n",
       "\t122 & 2010-03 & 529077\\\\\n",
       "\t123 & 2010-04 & 159780\\\\\n",
       "\t124 & 2010-05 & 153147\\\\\n",
       "\\end{tabular}\n"
      ],
      "text/markdown": [
       "\n",
       "A data.frame: 6 × 2\n",
       "\n",
       "| <!--/--> | Anio &lt;chr&gt; | Viajes &lt;int&gt; |\n",
       "|---|---|---|\n",
       "| 119 | 2019-12 | 584185 |\n",
       "| 120 | 2010-01 | 676908 |\n",
       "| 121 | 2010-02 | 686327 |\n",
       "| 122 | 2010-03 | 529077 |\n",
       "| 123 | 2010-04 | 159780 |\n",
       "| 124 | 2010-05 | 153147 |\n",
       "\n"
      ],
      "text/plain": [
       "    Anio    Viajes\n",
       "119 2019-12 584185\n",
       "120 2010-01 676908\n",
       "121 2010-02 686327\n",
       "122 2010-03 529077\n",
       "123 2010-04 159780\n",
       "124 2010-05 153147"
      ]
     },
     "metadata": {},
     "output_type": "display_data"
    }
   ],
   "source": [
    "tail(data)"
   ]
  },
  {
   "cell_type": "markdown",
   "metadata": {},
   "source": [
    "Los últimos $5$ años deberían indicar $2020$ en la sección del año, a pesar de que indique $2010$."
   ]
  },
  {
   "cell_type": "code",
   "execution_count": 4,
   "metadata": {},
   "outputs": [],
   "source": [
    "data$Anio[120:124] <- gsub(\"2010\", \"2020\", data$Anio[120:124])"
   ]
  },
  {
   "cell_type": "markdown",
   "metadata": {},
   "source": [
    "Se prefiere trabajar con letras minúsculas, por lo que se cambiará la primera letra del nombre de cada columna a minúscula, además la primer columna `anio` no hace referencia al año únicamente, sino también al mes correspondiente, por lo que hará el cambio del nombre a `fecha`."
   ]
  },
  {
   "cell_type": "code",
   "execution_count": 5,
   "metadata": {},
   "outputs": [],
   "source": [
    "colnames(data) <- c(\"fecha\", \"viajes\")"
   ]
  },
  {
   "cell_type": "markdown",
   "metadata": {},
   "source": [
    "### Estructura de datos"
   ]
  },
  {
   "cell_type": "code",
   "execution_count": 6,
   "metadata": {},
   "outputs": [
    {
     "data": {
      "text/plain": [
       "    fecha               viajes      \n",
       " Length:124         Min.   :  1057  \n",
       " Class :character   1st Qu.:218704  \n",
       " Mode  :character   Median :665850  \n",
       "                    Mean   :540405  \n",
       "                    3rd Qu.:745155  \n",
       "                    Max.   :878358  "
      ]
     },
     "metadata": {},
     "output_type": "display_data"
    }
   ],
   "source": [
    "summary(data)"
   ]
  },
  {
   "cell_type": "code",
   "execution_count": 7,
   "metadata": {},
   "outputs": [
    {
     "name": "stdout",
     "output_type": "stream",
     "text": [
      "'data.frame':\t124 obs. of  2 variables:\n",
      " $ fecha : chr  \"2010-02\" \"2010-03\" \"2010-04\" \"2010-05\" ...\n",
      " $ viajes: int  1057 21024 44984 59814 64704 58767 82329 100164 132294 134082 ...\n"
     ]
    }
   ],
   "source": [
    "str(data)"
   ]
  },
  {
   "cell_type": "markdown",
   "metadata": {},
   "source": [
    "Nótese que la variable `fecha` aparece como  `chr`, cuando en realidad debería ser un objeto `date` de `R`, a continuación se realizará el cambio correspondiente, para ello se supondrá que todos los meses tienen $28$ días, pues la función `as.Date`, presenta dificultades al tratar de identificar un mes que en tiene $28$ días (febrero) al momento de agregarle $30$ días o más."
   ]
  },
  {
   "cell_type": "code",
   "execution_count": 8,
   "metadata": {},
   "outputs": [],
   "source": [
    "data$fecha <- as.Date(paste0(data$fecha,\"-28\"))"
   ]
  },
  {
   "cell_type": "markdown",
   "metadata": {},
   "source": [
    "Para efectos de este análisis y para facilitar la selección de los distintos cortes (semestral, anual y bianual) se agregará la observación $2010-01-28$ que hace referencia al $28$ de enero de $2010$."
   ]
  },
  {
   "cell_type": "code",
   "execution_count": 9,
   "metadata": {},
   "outputs": [
    {
     "data": {
      "text/html": [
       "<table>\n",
       "<caption>A data.frame: 12 × 2</caption>\n",
       "<thead>\n",
       "\t<tr><th></th><th scope=col>fecha</th><th scope=col>viajes</th></tr>\n",
       "\t<tr><th></th><th scope=col>&lt;date&gt;</th><th scope=col>&lt;dbl&gt;</th></tr>\n",
       "</thead>\n",
       "<tbody>\n",
       "\t<tr><th scope=row>1</th><td>2010-01-28</td><td>     0</td></tr>\n",
       "\t<tr><th scope=row>2</th><td>2010-02-28</td><td>  1057</td></tr>\n",
       "\t<tr><th scope=row>3</th><td>2010-03-28</td><td> 21024</td></tr>\n",
       "\t<tr><th scope=row>4</th><td>2010-04-28</td><td> 44984</td></tr>\n",
       "\t<tr><th scope=row>5</th><td>2010-05-28</td><td> 59814</td></tr>\n",
       "\t<tr><th scope=row>6</th><td>2010-06-28</td><td> 64704</td></tr>\n",
       "\t<tr><th scope=row>7</th><td>2010-07-28</td><td> 58767</td></tr>\n",
       "\t<tr><th scope=row>8</th><td>2010-08-28</td><td> 82329</td></tr>\n",
       "\t<tr><th scope=row>9</th><td>2010-09-28</td><td>100164</td></tr>\n",
       "\t<tr><th scope=row>10</th><td>2010-10-28</td><td>132294</td></tr>\n",
       "\t<tr><th scope=row>11</th><td>2010-11-28</td><td>134082</td></tr>\n",
       "\t<tr><th scope=row>12</th><td>2010-12-28</td><td>141860</td></tr>\n",
       "</tbody>\n",
       "</table>\n"
      ],
      "text/latex": [
       "A data.frame: 12 × 2\n",
       "\\begin{tabular}{r|ll}\n",
       "  & fecha & viajes\\\\\n",
       "  & <date> & <dbl>\\\\\n",
       "\\hline\n",
       "\t1 & 2010-01-28 &      0\\\\\n",
       "\t2 & 2010-02-28 &   1057\\\\\n",
       "\t3 & 2010-03-28 &  21024\\\\\n",
       "\t4 & 2010-04-28 &  44984\\\\\n",
       "\t5 & 2010-05-28 &  59814\\\\\n",
       "\t6 & 2010-06-28 &  64704\\\\\n",
       "\t7 & 2010-07-28 &  58767\\\\\n",
       "\t8 & 2010-08-28 &  82329\\\\\n",
       "\t9 & 2010-09-28 & 100164\\\\\n",
       "\t10 & 2010-10-28 & 132294\\\\\n",
       "\t11 & 2010-11-28 & 134082\\\\\n",
       "\t12 & 2010-12-28 & 141860\\\\\n",
       "\\end{tabular}\n"
      ],
      "text/markdown": [
       "\n",
       "A data.frame: 12 × 2\n",
       "\n",
       "| <!--/--> | fecha &lt;date&gt; | viajes &lt;dbl&gt; |\n",
       "|---|---|---|\n",
       "| 1 | 2010-01-28 |      0 |\n",
       "| 2 | 2010-02-28 |   1057 |\n",
       "| 3 | 2010-03-28 |  21024 |\n",
       "| 4 | 2010-04-28 |  44984 |\n",
       "| 5 | 2010-05-28 |  59814 |\n",
       "| 6 | 2010-06-28 |  64704 |\n",
       "| 7 | 2010-07-28 |  58767 |\n",
       "| 8 | 2010-08-28 |  82329 |\n",
       "| 9 | 2010-09-28 | 100164 |\n",
       "| 10 | 2010-10-28 | 132294 |\n",
       "| 11 | 2010-11-28 | 134082 |\n",
       "| 12 | 2010-12-28 | 141860 |\n",
       "\n"
      ],
      "text/plain": [
       "   fecha      viajes\n",
       "1  2010-01-28      0\n",
       "2  2010-02-28   1057\n",
       "3  2010-03-28  21024\n",
       "4  2010-04-28  44984\n",
       "5  2010-05-28  59814\n",
       "6  2010-06-28  64704\n",
       "7  2010-07-28  58767\n",
       "8  2010-08-28  82329\n",
       "9  2010-09-28 100164\n",
       "10 2010-10-28 132294\n",
       "11 2010-11-28 134082\n",
       "12 2010-12-28 141860"
      ]
     },
     "metadata": {},
     "output_type": "display_data"
    }
   ],
   "source": [
    "new_obs <- data.frame(fecha = as.Date(\"2010-01-28\"), viajes = 0)\n",
    "new_data <- rbind(new_obs, data)\n",
    "head(new_data, 12)"
   ]
  },
  {
   "cell_type": "markdown",
   "metadata": {},
   "source": [
    "### Splines cúbicos"
   ]
  },
  {
   "cell_type": "code",
   "execution_count": 10,
   "metadata": {},
   "outputs": [],
   "source": [
    "n <- nrow(new_data)"
   ]
  },
  {
   "cell_type": "code",
   "execution_count": 11,
   "metadata": {},
   "outputs": [],
   "source": [
    "sem <- seq(6, n, 6)\n",
    "anual <- seq(12, n, 12)\n",
    "bianual <- seq(24, n, 24)"
   ]
  },
  {
   "cell_type": "code",
   "execution_count": 12,
   "metadata": {},
   "outputs": [],
   "source": [
    "data_sem <- new_data[sem,]\n",
    "data_anual <- new_data[anual,]\n",
    "data_bian <- new_data[bianual,]"
   ]
  },
  {
   "cell_type": "code",
   "execution_count": 29,
   "metadata": {},
   "outputs": [],
   "source": [
    "spl_sem <- spline(data_sem$fecha, data_sem$viajes)\n",
    "spl_an <- spline(data_anual$fecha, data_anual$viajes)\n",
    "spl_bian <- spline(data_bian$fecha, data_bian$viajes)"
   ]
  },
  {
   "cell_type": "code",
   "execution_count": 124,
   "metadata": {},
   "outputs": [
    {
     "name": "stderr",
     "output_type": "stream",
     "text": [
      "ERROR while rich displaying an object: Error: Invalid input: date_trans works with objects of class Date only\n",
      "\n",
      "Traceback:\n",
      "1. FUN(X[[i]], ...)\n",
      "2. tryCatch(withCallingHandlers({\n",
      " .     if (!mime %in% names(repr::mime2repr)) \n",
      " .         stop(\"No repr_* for mimetype \", mime, \" in repr::mime2repr\")\n",
      " .     rpr <- repr::mime2repr[[mime]](obj)\n",
      " .     if (is.null(rpr)) \n",
      " .         return(NULL)\n",
      " .     prepare_content(is.raw(rpr), rpr)\n",
      " . }, error = error_handler), error = outer_handler)\n",
      "3. tryCatchList(expr, classes, parentenv, handlers)\n",
      "4. tryCatchOne(expr, names, parentenv, handlers[[1L]])\n",
      "5. doTryCatch(return(expr), name, parentenv, handler)\n",
      "6. withCallingHandlers({\n",
      " .     if (!mime %in% names(repr::mime2repr)) \n",
      " .         stop(\"No repr_* for mimetype \", mime, \" in repr::mime2repr\")\n",
      " .     rpr <- repr::mime2repr[[mime]](obj)\n",
      " .     if (is.null(rpr)) \n",
      " .         return(NULL)\n",
      " .     prepare_content(is.raw(rpr), rpr)\n",
      " . }, error = error_handler)\n",
      "7. repr::mime2repr[[mime]](obj)\n",
      "8. repr_text.default(obj)\n",
      "9. paste(capture.output(print(obj)), collapse = \"\\n\")\n",
      "10. capture.output(print(obj))\n",
      "11. evalVis(expr)\n",
      "12. withVisible(eval(expr, pf))\n",
      "13. eval(expr, pf)\n",
      "14. eval(expr, pf)\n",
      "15. print(obj)\n",
      "16. print.ggplot(obj)\n",
      "17. ggplot_build(x)\n",
      "18. ggplot_build.ggplot(x)\n",
      "19. lapply(data, scales_transform_df, scales = scales)\n",
      "20. FUN(X[[i]], ...)\n",
      "21. unlist(lapply(scales$scales, function(s) s$transform_df(df = df)), \n",
      "  .     recursive = FALSE)\n",
      "22. lapply(scales$scales, function(s) s$transform_df(df = df))\n",
      "23. FUN(X[[i]], ...)\n",
      "24. s$transform_df(df = df)\n",
      "25. f(..., self = self)\n",
      "26. lapply(df[aesthetics], self$transform)\n",
      "27. FUN(X[[i]], ...)\n",
      "28. f(..., self = self)\n",
      "29. self$trans$transform(x)\n",
      "30. stop(\"Invalid input: date_trans works with objects of class Date only\", \n",
      "  .     call. = FALSE)\n"
     ]
    },
    {
     "data": {
      "image/png": "[encoded data removed]",
      "text/plain": [
       "plot without title"
      ]
     },
     "metadata": {
      "image/png": {
       "height": 420,
       "width": 420
      }
     },
     "output_type": "display_data"
    }
   ],
   "source": [
    "ggplot(data = data.frame(fecha = spl_sem$x, viajes = spl_sem$y), aes(fecha, viajes)) + \n",
    "    theme_light() +\n",
    "    geom_line(color = \"red\") +\n",
    "    geom_line(data = data.frame(fecha = spl_an$x, viajes = spl_an$y), color = \"blue\") +\n",
    "    geom_line(data = data.frame(fecha = spl_bian$x, viajes = spl_bian$y), color = \"#6DCE0A\") +\n",
    "    theme(axis.text.x = element_text(angle = 45, hjust = 1, face = \"bold\"), \n",
    "          plot.title = element_text(size = 17, face = \"bold\"), \n",
    "          axis.title = element_text(size=14, face=\"bold\")) + \n",
    "    scale_y_continuous(labels = comma) +\n",
    "    scale_x_date(breaks='1 years', date_labels = \"%b, %Y\", limits = c(as.Date(min(new_data$fecha)), \n",
    "                                                                      as.Date(max(new_data$fecha)))) + \n",
    "    xlab(\"Fecha\") + \n",
    "    ylab(\"Viajes\") +\n",
    "    ggtitle(\"Cantidad de viajes realizados con EcoBici\")"
   ]
  },
  {
   "cell_type": "code",
   "execution_count": 68,
   "metadata": {},
   "outputs": [
    {
     "data": {
      "image/png": "[encoded data removed]",
      "text/plain": [
       "plot without title"
      ]
     },
     "metadata": {
      "image/png": {
       "height": 420,
       "width": 420
      }
     },
     "output_type": "display_data"
    }
   ],
   "source": [
    "ggplot(data_result, aes(x = fecha, y = viajes, color = Corte)) + \n",
    "    theme_light() +\n",
    "    geom_line() + \n",
    "    scale_x_date(breaks='1 years', date_labels = \"%b, %Y\", limits = c(mi)) + \n",
    "    theme(axis.text.x = element_text(angle = 45, hjust = 1, face = \"bold\"), \n",
    "          plot.title = element_text(size = 17, face = \"bold\"), \n",
    "          axis.title = element_text(size=14, face=\"bold\")) + \n",
    "    scale_y_continuous(labels = comma) +\n",
    "    xlab(\"Fecha\") + \n",
    "    ylab(\"Viajes\") +\n",
    "    ggtitle(\"Cantidad de viajes realizados con EcoBici\")"
   ]
  },
  {
   "cell_type": "code",
   "execution_count": 108,
   "metadata": {},
   "outputs": [
    {
     "name": "stdout",
     "output_type": "stream",
     "text": [
      "'data.frame':\t20 obs. of  2 variables:\n",
      " $ fecha : Date, format: \"2010-06-28\" \"2010-12-28\" ...\n",
      " $ viajes: num  64704 141860 220447 179684 197067 ...\n"
     ]
    }
   ],
   "source": [
    "str(data_sem)"
   ]
  },
  {
   "cell_type": "code",
   "execution_count": 35,
   "metadata": {},
   "outputs": [],
   "source": [
    "data_result <- data.frame(fecha = c(spl_sem$x, spl_an$x, spl_bian$x),\n",
    "                          viajes = c(spl_sem$y, spl_an$y, spl_bian$y),\n",
    "                          Corte = c(rep(\"Semestral\", nrow(data_sem)), \n",
    "                                    rep(\"Anual\", nrow(data_anual)), \n",
    "                                    rep(\"Bianual\", nrow(data_bian))))"
   ]
  },
  {
   "cell_type": "code",
   "execution_count": 122,
   "metadata": {},
   "outputs": [
    {
     "name": "stdout",
     "output_type": "stream",
     "text": [
      " Date[1:2], format: \"2010-01-28\" \"2020-05-28\"\n"
     ]
    }
   ],
   "source": [
    "str(c(min(new_data$fecha), max(new_data$fecha)))"
   ]
  },
  {
   "cell_type": "code",
   "execution_count": null,
   "metadata": {},
   "outputs": [],
   "source": []
  }
 ],
 "metadata": {
  "kernelspec": {
   "display_name": "R",
   "language": "R",
   "name": "ir"
  },
  "language_info": {
   "codemirror_mode": "r",
   "file_extension": ".r",
   "mimetype": "text/x-r-source",
   "name": "R",
   "pygments_lexer": "r",
   "version": "3.6.3"
  }
 },
 "nbformat": 4,
 "nbformat_minor": 4
}
